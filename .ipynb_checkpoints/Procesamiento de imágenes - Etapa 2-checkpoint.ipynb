{
 "cells": [
  {
   "cell_type": "code",
   "execution_count": 71,
   "id": "968a0c90",
   "metadata": {},
   "outputs": [],
   "source": [
    "import numpy as np\n",
    "import cv2\n",
    "# Se carga la imagen\n",
    "color = cv2.imread(\"truchas/salmonid.000005.png\", 1)\n",
    "# Se transforma la imagen\n",
    "hsv = cv2.cvtColor(color, cv2.COLOR_BGR2HSV)\n",
    "cv2.imshow('en hsv', hsv)\n",
    "# Se extraen h s y v de la imagen\n",
    "h,s,v = cv2.split(hsv)\n",
    "cv2.waitKey(0)\n",
    "cv2.destroyAllWindows()"
   ]
  },
  {
   "cell_type": "code",
   "execution_count": 72,
   "id": "867a8033",
   "metadata": {},
   "outputs": [],
   "source": [
    "#Bluring\n",
    "# ksize\n",
    "ksize = (20, 20)\n",
    "blur_h = cv2.blur(h, ksize)\n",
    "blur_s = cv2.blur(s, ksize)\n",
    "blur_v = cv2.blur(v, ksize)\n",
    "\n",
    "#merge\n",
    "merge = cv2.merge((blur_h,blur_s,blur_v))\n",
    "cv2.imshow('en rgb', merge)\n",
    "cv2.waitKey(0)\n",
    "cv2.destroyAllWindows()"
   ]
  },
  {
   "cell_type": "code",
   "execution_count": 73,
   "id": "209065e4",
   "metadata": {},
   "outputs": [],
   "source": [
    "#Global histogram equalization\n",
    "\n",
    "equ_v = cv2.equalizeHist(blur_v)\n",
    "\n",
    "#merge\n",
    "merge = cv2.merge((blur_h,blur_s,equ_v))\n",
    "cv2.imshow('en rgb', merge)\n",
    "cv2.waitKey(0)\n",
    "cv2.destroyAllWindows()"
   ]
  },
  {
   "cell_type": "code",
   "execution_count": 74,
   "id": "03f4fb0f",
   "metadata": {},
   "outputs": [],
   "source": [
    "#CLAHE (Contrast Limited Adaptive Histogram Equalization)\n",
    "clahe = cv2.createCLAHE(clipLimit=1.0, tileGridSize=(8,8))\n",
    "cl_h = clahe.apply(blur_h)\n",
    "cl_s = clahe.apply(blur_s)\n",
    "cl_v = clahe.apply(equ_v)\n",
    "\n",
    "#merge\n",
    "merge = cv2.merge((cl_h,cl_s,cl_v))\n",
    "cv2.imshow('en rgb', merge)\n",
    "cv2.waitKey(0)\n",
    "cv2.destroyAllWindows()"
   ]
  },
  {
   "cell_type": "code",
   "execution_count": 75,
   "id": "9787b4a2",
   "metadata": {},
   "outputs": [],
   "source": [
    "#Morphological transformation\n",
    "kernel = np.ones((5,5),np.uint8)\n",
    "\n",
    "#Opening\n",
    "op_h = cv2.morphologyEx(cl_h, cv2.MORPH_OPEN, kernel)\n",
    "op_s = cv2.morphologyEx(cl_s, cv2.MORPH_OPEN, kernel)\n",
    "op_v = cv2.morphologyEx(cl_v, cv2.MORPH_OPEN, kernel)\n",
    "\n",
    "#merge\n",
    "merge = cv2.merge((op_h, op_s, op_v))\n",
    "cv2.imshow('en rgb', merge)\n",
    "cv2.waitKey(0)\n",
    "cv2.destroyAllWindows()"
   ]
  },
  {
   "cell_type": "code",
   "execution_count": 76,
   "id": "c8cc85dd",
   "metadata": {},
   "outputs": [],
   "source": [
    "#Morphological transformation\n",
    "kernel = np.ones((5,5),np.uint8)\n",
    "\n",
    "#Closing\n",
    "clos_h = cv2.morphologyEx(op_h, cv2.MORPH_CLOSE, kernel)\n",
    "clos_s = cv2.morphologyEx(op_s, cv2.MORPH_CLOSE, kernel)\n",
    "clos_v = cv2.morphologyEx(op_v, cv2.MORPH_CLOSE, kernel)\n",
    "\n",
    "#merge\n",
    "merge = cv2.merge((clos_h, clos_s, clos_v))\n",
    "cv2.imshow('en rgb', merge)\n",
    "cv2.waitKey(0)\n",
    "cv2.destroyAllWindows()"
   ]
  },
  {
   "cell_type": "code",
   "execution_count": 77,
   "id": "cfa4e4a0",
   "metadata": {},
   "outputs": [],
   "source": [
    "# merge\n",
    "hsv_merge = cv2.merge((clos_h,clos_s,clos_v))\n",
    "#cv2.imshow(\"Split HSV\",hsv_split)\n",
    "cv2.imshow('en rgb', merge)\n",
    "cv2.waitKey(0)\n",
    "cv2.destroyAllWindows()"
   ]
  },
  {
   "cell_type": "code",
   "execution_count": 78,
   "id": "7895698c",
   "metadata": {},
   "outputs": [],
   "source": [
    "# Binary threshold\n",
    "img = cv2.cvtColor(merge, cv2.COLOR_BGR2GRAY)\n",
    "cv2.imshow('binario', img)\n",
    "cv2.waitKey(0)\n",
    "cv2.destroyAllWindows()\n",
    "ret, thresh1 = cv2.threshold(img, 120, 255, cv2.THRESH_BINARY)\n",
    "cv2.imshow('thresh1', thresh1)\n",
    "cv2.waitKey(0)\n",
    "cv2.destroyAllWindows()"
   ]
  },
  {
   "cell_type": "code",
   "execution_count": null,
   "id": "14f0fa35",
   "metadata": {},
   "outputs": [],
   "source": [
    "# Find contours, obtain bounding box, extract and save ROI\n",
    "ROI_number = 0\n",
    "cnts = cv2.findContours(thresh1, cv2.RETR_EXTERNAL, cv2.CHAIN_APPROX_SIMPLE)\n",
    "cnts = cnts[0] if len(cnts) == 2 else cnts[1]\n",
    "for c in cnts:\n",
    "    x,y,w,h = cv2.boundingRect(c)\n",
    "    cv2.rectangle(color, (x, y), (x + w, y + h), (36,255,12), 2)\n",
    "    ROI = color[y:y+h, x:x+w]\n",
    "    cv2.imwrite('ROI_{}.png'.format(ROI_number), ROI)\n",
    "    ROI_number += 1\n",
    "\n",
    "cv2.imshow('image', color)\n",
    "cv2.waitKey()"
   ]
  },
  {
   "cell_type": "code",
   "execution_count": null,
   "id": "4f2493fa",
   "metadata": {},
   "outputs": [],
   "source": [
    "cv2.imwrite('truchas/juntada.png', hsv_split)"
   ]
  },
  {
   "cell_type": "code",
   "execution_count": null,
   "id": "9b105ffe",
   "metadata": {},
   "outputs": [],
   "source": []
  },
  {
   "cell_type": "code",
   "execution_count": null,
   "id": "9c39eaa7",
   "metadata": {},
   "outputs": [],
   "source": []
  }
 ],
 "metadata": {
  "kernelspec": {
   "display_name": "Python 3",
   "language": "python",
   "name": "python3"
  },
  "language_info": {
   "codemirror_mode": {
    "name": "ipython",
    "version": 3
   },
   "file_extension": ".py",
   "mimetype": "text/x-python",
   "name": "python",
   "nbconvert_exporter": "python",
   "pygments_lexer": "ipython3",
   "version": "3.8.8"
  }
 },
 "nbformat": 4,
 "nbformat_minor": 5
}
