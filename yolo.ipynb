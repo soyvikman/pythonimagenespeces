git clone https://github.com/ultralytics/yolov5
cd yolov5
pip install -r requirements.txt

python train.py --img 640 --batch 16 --epochs 3 --data coco128.yaml --weights yolov5s.pt
