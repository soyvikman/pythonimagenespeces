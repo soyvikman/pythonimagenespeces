{
 "cells": [
  {
   "cell_type": "markdown",
   "id": "aedf0bee",
   "metadata": {},
   "source": [
    "# Procesamiento de imágenes - Fase experimental"
   ]
  },
  {
   "cell_type": "markdown",
   "id": "2e29e1ac",
   "metadata": {},
   "source": [
    "## Etapa de procesamiento de imágenes"
   ]
  },
  {
   "cell_type": "markdown",
   "id": "12a0fa45",
   "metadata": {},
   "source": [
    "Durante esta etapa se procesan las imágenes, básicamente se busca hacer la transición de RGB a HSV, hacer el blurring de la imagen, las equalizaciones de histograma y el cambio del modo de color."
   ]
  },
  {
   "cell_type": "code",
   "execution_count": 19,
   "id": "968a0c90",
   "metadata": {},
   "outputs": [],
   "source": [
    "import numpy as np\n",
    "import cv2\n",
    "# Se carga la imagen\n",
    "color = cv2.imread(\"truchas/salmonid.000006.png\", 1)\n",
    "# Se transforma la imagen\n",
    "hsv = cv2.cvtColor(color, cv2.COLOR_BGR2HSV)\n",
    "cv2.imshow('en hsv', hsv)\n",
    "# Se extraen h s y v de la imagen\n",
    "h,s,v = cv2.split(hsv)\n",
    "cv2.waitKey(0)\n",
    "cv2.destroyAllWindows()"
   ]
  },
  {
   "cell_type": "code",
   "execution_count": 20,
   "id": "8897ea41",
   "metadata": {},
   "outputs": [],
   "source": [
    "#Bluring\n",
    "# ksize\n",
    "ksize = (15, 15)\n",
    "blur_h = cv2.blur(h, ksize)\n",
    "blur_s = cv2.blur(s, ksize)\n",
    "blur_v = cv2.blur(v, ksize)\n",
    "\n",
    "#merge\n",
    "merge = cv2.merge((blur_h,blur_s,blur_v))\n",
    "cv2.imshow('en rgb', merge)\n",
    "cv2.waitKey(0)\n",
    "cv2.destroyAllWindows()"
   ]
  },
  {
   "cell_type": "code",
   "execution_count": 21,
   "id": "d7fe3033",
   "metadata": {},
   "outputs": [],
   "source": [
    "#Global histogram equalization\n",
    "\n",
    "equ_v = cv2.equalizeHist(blur_v)\n",
    "\n",
    "#merge\n",
    "merge = cv2.merge((blur_h,blur_s,equ_v))\n",
    "cv2.imshow('en rgb', merge)\n",
    "cv2.waitKey(0)\n",
    "cv2.destroyAllWindows()"
   ]
  },
  {
   "cell_type": "code",
   "execution_count": 22,
   "id": "83e73a02",
   "metadata": {},
   "outputs": [],
   "source": [
    "#CLAHE (Contrast Limited Adaptive Histogram Equalization)\n",
    "clahe = cv2.createCLAHE(clipLimit=1.0, tileGridSize=(9,9))\n",
    "cl_h = clahe.apply(blur_h)\n",
    "cl_s = clahe.apply(blur_s)\n",
    "cl_v = clahe.apply(equ_v)\n",
    "\n",
    "#merge\n",
    "merge = cv2.merge((cl_h,cl_s,cl_v))\n",
    "cv2.imshow('en rgb', merge)\n",
    "cv2.waitKey(0)\n",
    "cv2.destroyAllWindows()"
   ]
  },
  {
   "cell_type": "code",
   "execution_count": 23,
   "id": "13ad26cb",
   "metadata": {},
   "outputs": [],
   "source": [
    "#Morphological transformation\n",
    "kernel = np.ones((5,5),np.uint8)\n",
    "\n",
    "#Opening\n",
    "op_h = cv2.morphologyEx(cl_h, cv2.MORPH_OPEN, kernel)\n",
    "op_s = cv2.morphologyEx(cl_s, cv2.MORPH_OPEN, kernel)\n",
    "op_v = cv2.morphologyEx(cl_v, cv2.MORPH_OPEN, kernel)\n",
    "\n",
    "#merge\n",
    "merge = cv2.merge((op_h, op_s, op_v))\n",
    "cv2.waitKey(0)\n",
    "cv2.destroyAllWindows()"
   ]
  },
  {
   "cell_type": "code",
   "execution_count": 24,
   "id": "ff104e38",
   "metadata": {},
   "outputs": [],
   "source": [
    "# Binary threshold\n",
    "img = cv2.cvtColor(merge, cv2.COLOR_BGR2GRAY)\n",
    "cv2.imshow('binario', img)\n",
    "cv2.waitKey(0)\n",
    "cv2.destroyAllWindows()\n",
    "ret, thresh1 = cv2.threshold(img, 127, 255, cv2.THRESH_BINARY_INV)\n",
    "cv2.imshow('thresh1', thresh1)\n",
    "cv2.waitKey(0)\n",
    "cv2.destroyAllWindows()"
   ]
  },
  {
   "cell_type": "code",
   "execution_count": 25,
   "id": "0067c87e",
   "metadata": {},
   "outputs": [
    {
     "data": {
      "text/plain": [
       "-1"
      ]
     },
     "execution_count": 25,
     "metadata": {},
     "output_type": "execute_result"
    }
   ],
   "source": [
    "# Find contours, obtain bounding box, extract and save ROI\n",
    "ROI_number = 0\n",
    "cnts = cv2.findContours(thresh1, cv2.RETR_EXTERNAL, cv2.CHAIN_APPROX_SIMPLE)\n",
    "cnts = cnts[0] if len(cnts) == 2 else cnts[1]\n",
    "for c in cnts:\n",
    "    x,y,w,h = cv2.boundingRect(c)\n",
    "    cv2.rectangle(color, (x, y), (x + w, y + h), (36,255,12), 2)\n",
    "    ROI = color[y:y+h, x:x+w]\n",
    "    #cv2.imwrite('ROI_{}.png'.format(ROI_number), ROI)\n",
    "    ROI_number += 1\n",
    "\n",
    "cv2.imshow('image', color)\n",
    "cv2.waitKey()"
   ]
  },
  {
   "cell_type": "markdown",
   "id": "22bbf582",
   "metadata": {},
   "source": [
    "## Etapa de definición de boxes"
   ]
  },
  {
   "cell_type": "code",
   "execution_count": 26,
   "id": "e098b721",
   "metadata": {},
   "outputs": [
    {
     "data": {
      "text/plain": [
       "-1"
      ]
     },
     "execution_count": 26,
     "metadata": {},
     "output_type": "execute_result"
    }
   ],
   "source": [
    "# Find contours, obtain bounding box, extract and save ROI\n",
    "ROI_number = 0\n",
    "cnts = cv2.findContours(thresh1, cv2.RETR_EXTERNAL, cv2.CHAIN_APPROX_SIMPLE)\n",
    "cnts = cnts[0] if len(cnts) == 2 else cnts[1]\n",
    "for c in cnts:\n",
    "    x,y,w,h = cv2.boundingRect(c)\n",
    "    cv2.rectangle(color, (x, y), (x + w, y + h), (36,255,12), 2)\n",
    "    ROI = color[y:y+h, x:x+w]\n",
    "    #cv2.imwrite('ROI_{}.png'.format(ROI_number), ROI)\n",
    "    ROI_number += 1\n",
    "\n",
    "cv2.imshow('image', color)\n",
    "cv2.waitKey()"
   ]
  },
  {
   "cell_type": "markdown",
   "id": "003921b2",
   "metadata": {},
   "source": [
    "## Para escribir las imágenes"
   ]
  },
  {
   "cell_type": "code",
   "execution_count": 27,
   "id": "f34ba25b",
   "metadata": {},
   "outputs": [],
   "source": [
    "##cv2.imwrite(filename, image)"
   ]
  }
 ],
 "metadata": {
  "kernelspec": {
   "display_name": "Python 3",
   "language": "python",
   "name": "python3"
  },
  "language_info": {
   "codemirror_mode": {
    "name": "ipython",
    "version": 3
   },
   "file_extension": ".py",
   "mimetype": "text/x-python",
   "name": "python",
   "nbconvert_exporter": "python",
   "pygments_lexer": "ipython3",
   "version": "3.8.8"
  }
 },
 "nbformat": 4,
 "nbformat_minor": 5
}
